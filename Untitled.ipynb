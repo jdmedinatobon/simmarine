{
 "cells": [
  {
   "cell_type": "code",
   "execution_count": 12,
   "metadata": {},
   "outputs": [
    {
     "ename": "ImportError",
     "evalue": "cannot import name 'sec'",
     "output_type": "error",
     "traceback": [
      "\u001b[0;31m---------------------------------------------------------------------------\u001b[0m",
      "\u001b[0;31mImportError\u001b[0m                               Traceback (most recent call last)",
      "\u001b[0;32m<ipython-input-12-2c1e1c3b4d8a>\u001b[0m in \u001b[0;36m<module>\u001b[0;34m\u001b[0m\n\u001b[1;32m      1\u001b[0m \u001b[0;32mfrom\u001b[0m \u001b[0mscipy\u001b[0m\u001b[0;34m.\u001b[0m\u001b[0mintegrate\u001b[0m \u001b[0;32mimport\u001b[0m \u001b[0msolve_ivp\u001b[0m\u001b[0;34m\u001b[0m\u001b[0;34m\u001b[0m\u001b[0m\n\u001b[0;32m----> 2\u001b[0;31m \u001b[0;32mfrom\u001b[0m \u001b[0mmath\u001b[0m \u001b[0;32mimport\u001b[0m \u001b[0msin\u001b[0m\u001b[0;34m,\u001b[0m \u001b[0mcos\u001b[0m\u001b[0;34m,\u001b[0m \u001b[0mtan\u001b[0m\u001b[0;34m,\u001b[0m \u001b[0msec\u001b[0m\u001b[0;34m\u001b[0m\u001b[0;34m\u001b[0m\u001b[0m\n\u001b[0m",
      "\u001b[0;31mImportError\u001b[0m: cannot import name 'sec'"
     ]
    }
   ],
   "source": [
    "from scipy.integrate import solve_ivp\n",
    "from math import sin, cos, tan, sec"
   ]
  },
  {
   "cell_type": "code",
   "execution_count": 11,
   "metadata": {},
   "outputs": [
    {
     "name": "stdout",
     "output_type": "stream",
     "text": [
      "  message: 'The solver successfully reached the end of the integration interval.'\n",
      "     nfev: 44\n",
      "     njev: 0\n",
      "      nlu: 0\n",
      "      sol: None\n",
      "   status: 0\n",
      "  success: True\n",
      "        t: array([ 0.        ,  0.11487653,  1.26364188,  3.06061781,  4.81611105,\n",
      "        6.57445806,  8.33328988, 10.        ])\n",
      " t_events: None\n",
      "        y: array([[2.        , 1.88836035, 1.06327177, 0.43319312, 0.18017253,\n",
      "        0.07483045, 0.03107158, 0.01350781],\n",
      "       [4.        , 3.7767207 , 2.12654355, 0.86638624, 0.36034507,\n",
      "        0.14966091, 0.06214316, 0.02701561],\n",
      "       [8.        , 7.5534414 , 4.25308709, 1.73277247, 0.72069014,\n",
      "        0.29932181, 0.12428631, 0.05403123]])\n",
      " y_events: None\n"
     ]
    }
   ],
   "source": [
    "tspan = [0, 10]\n",
    "y0 = [2, 4, 8]\n",
    "\n",
    "class submarine:\n",
    "    def __init__(self):\n",
    "        self.mass = 5\n",
    "\n",
    "def submarine_system(t, y, a):\n",
    "    return -a*y\n",
    "\n",
    "sol = solve_ivp(submarine_system, tspan, y0, args = (0.5, ))\n",
    "print(sol)"
   ]
  },
  {
   "cell_type": "code",
   "execution_count": 5,
   "metadata": {},
   "outputs": [
    {
     "data": {
      "text/plain": [
       "array([[2.        , 1.88836035, 1.06327177, 0.43319312, 0.18017253,\n",
       "        0.07483045, 0.03107158, 0.01350781],\n",
       "       [4.        , 3.7767207 , 2.12654355, 0.86638624, 0.36034507,\n",
       "        0.14966091, 0.06214316, 0.02701561],\n",
       "       [8.        , 7.5534414 , 4.25308709, 1.73277247, 0.72069014,\n",
       "        0.29932181, 0.12428631, 0.05403123]])"
      ]
     },
     "execution_count": 5,
     "metadata": {},
     "output_type": "execute_result"
    }
   ],
   "source": [
    "# Parametros de aceleracion\n",
    "X_ax = -167.6; #Kg\n",
    "Y_ay = -477.2; #Kg\n",
    "Z_az = -235.7; #Kg\n",
    "K_alphax = -11.6; #Kg*m2\n",
    "M_alphay = -15.5; #Kg*m2\n",
    "N_alphaz = -15.9; #Kg*m2\n",
    "\n",
    "# Parametros de velocidad\n",
    "X_vx = 26.9; #Kg/s\n",
    "Y_vy = 35.8; #Kg/s\n",
    "Z_vz = 6.19; #Kg/s\n",
    "K_ox = 3.0; #Kg*m2/s*rad\n",
    "M_oy = 4.9; #Kg*m2/s*rad\n",
    "N_oz = 3.5; #Kg*m2/s*rad\n",
    "\n",
    "# Otros parametros\n",
    "m = 116; #Kg\n",
    "g = 9.8; #N/Kg (Gravedad)\n",
    "b = 116.2; #Kg\n",
    "W = m*g; \n",
    "B = b*g;\n",
    "\n",
    "I_x = 9.3; #Kg*m2\n",
    "I_y = 14.9; #Kg*m2\n",
    "I_z = 13.1; #Kg*m2\n",
    "x_B = -0.00045; #m\n",
    "y_B = -0.00128; #m\n",
    "z_B = -0.04298; #m\n",
    "X_vx_vx = 241.3; #Kg/m\n",
    "Y_vy_vy = 503.8; #Kg/m\n",
    "Z_vz_vz = 119.1; #Kg/m\n",
    "K_ox_ox = 101.6; #Kg*m2/rad2\n",
    "M_oy_oy = 59.9; #Kg*m2/rad2\n",
    "N_oz_oz = 76.9; #Kg*m2/rad2\n",
    "\n",
    "# Sistema No Lineal\n",
    "G1 = [ cos(p(5))*cos(p(6)) sin(p(4))*sin(p(5))*cos(p(6))-cos(p(4))*sin(p(6)) cos(p(4))*sin(p(5))*cos(p(6))+sin(p(4))*sin(p(6));\n",
    "       cos(p(5))*sin(p(6)) sin(p(4))*sin(p(5))*sin(p(6))+cos(p(4))*cos(p(6)) cos(p(4))*sin(p(5))*sin(p(6))-sin(p(4))*cos(p(6));\n",
    "      -sin(p(5))           sin(p(4))*cos(p(5))                               cos(p(4))*cos(p(5))];\n",
    "\n",
    "\n",
    "G2 = [1 sin(p(4))*tan(p(5))  cos(p(4))*tan(p(5));\n",
    "      0 cos(p(4))           -sin(p(4))          ;\n",
    "      0 sin(p(4))*sec(p(5))  cos(p(4))/cos(p(5))];\n",
    "  \n",
    "G = [    G1     zeros(3,3);\n",
    "     zeros(3,3)     G2   ];\n",
    "\n",
    "ds1 = G1*p(7:9);\n",
    "ds2 = G2*p(10:12);\n",
    "\n",
    "M_RB = diag([m m m I_x I_y I_z]);\n",
    "M_A = diag([-X_ax -Y_ay -Z_az -K_alphax -M_alphay -N_alphaz]);\n",
    "M = M_RB + M_A;\n",
    "\n",
    "C_RB = [  0       0       0            0       m*p(9)    -m*p(8)   ;\n",
    "          0       0       0        -m*p(9)        0       m*p(7)   ;\n",
    "          0       0       0         m*p(8)    -m*p(7)        0     ;\n",
    "          0      m*p(9) -m*p(8)        0       I_z*p(12) -I_y*p(11);\n",
    "        -m*p(9)   0      m*p(7)    -I_z*p(12)     0       I_x*p(10);\n",
    "         m*p(8) -m*p(7)   0         I_y*p(11) -I_x*p(10)     0     ;\n",
    "         ];\n",
    "     \n",
    "C_A = [     0              0           0          0          -Z_az*p(9)       Y_ay*p(8)     ;\n",
    "            0              0           0      Z_az*p(9)           0          -X_ax*p(7)     ;\n",
    "            0              0           0     -Y_ay*p(8)       X_ax*p(7)           0         ;\n",
    "            0          -Z_az*p(9)  Y_ay*p(8)      0          -N_alphaz*p(12)  M_alphay*p(11);\n",
    "         Z_az*p(9)         0      -X_ax*p(7)  N_alphaz*p(12)      0          -K_alphax*p(10);\n",
    "        -Y_ay*p(8)      X_ax*p(7)      0     -M_alphay*p(11)  K_alphax*p(10)      0         ;\n",
    "         ];\n",
    "     \n",
    "C = C_RB + C_A;\n",
    "\n",
    "D = diag([X_vx+X_vx_vx*abs(p(7)) , Y_vy+Y_vy_vy*abs(p(8)) , Z_vz+Z_vz_vz*abs(p(9))...\n",
    "          K_ox+K_ox_ox*abs(p(10)), M_oy+M_oy_oy*abs(p(11)), N_oz+N_oz_oz*abs(p(12))...\n",
    "          ]);\n",
    "\n",
    "gs = [  (W-B)*sin(p(5))                                      ;\n",
    "       -(W-B)*cos(p(5))*sin(p(4))                            ;\n",
    "       -(W-B)*cos(p(5))*cos(p(4))                            ;\n",
    "        y_B*B*cos(p(5))*cos(p(4)) - z_B*B*cos(p(5))*sin(p(4));\n",
    "       -z_B*B*sin(p(5))           - x_B*B*cos(p(5))*cos(p(4));\n",
    "        x_B*B*cos(p(5))*sin(p(4)) + y_B*B*sin(p(5))         \n",
    "        ];\n",
    "\n",
    "dv = M\\(tao-C*p(7:12)-D*p(7:12)-gs);\n",
    "\n",
    "dp = [ds1; ds2; dv];"
   ]
  },
  {
   "cell_type": "code",
   "execution_count": null,
   "metadata": {},
   "outputs": [],
   "source": []
  }
 ],
 "metadata": {
  "kernelspec": {
   "display_name": "Python 3",
   "language": "python",
   "name": "python3"
  },
  "language_info": {
   "codemirror_mode": {
    "name": "ipython",
    "version": 3
   },
   "file_extension": ".py",
   "mimetype": "text/x-python",
   "name": "python",
   "nbconvert_exporter": "python",
   "pygments_lexer": "ipython3",
   "version": "3.6.9"
  },
  "toc": {
   "base_numbering": 1,
   "nav_menu": {},
   "number_sections": true,
   "sideBar": true,
   "skip_h1_title": false,
   "title_cell": "Table of Contents",
   "title_sidebar": "Contents",
   "toc_cell": false,
   "toc_position": {},
   "toc_section_display": true,
   "toc_window_display": false
  }
 },
 "nbformat": 4,
 "nbformat_minor": 4
}
